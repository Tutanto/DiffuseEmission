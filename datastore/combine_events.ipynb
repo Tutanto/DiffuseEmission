{
 "cells": [
  {
   "cell_type": "code",
   "execution_count": 1,
   "metadata": {},
   "outputs": [],
   "source": [
    "from pathlib import Path\n",
    "from gammapy.data import EventList, GTI, DataStore\n",
    "from astropy import units as u\n",
    "from astropy.coordinates import SkyCoord\n",
    "from gammapy.maps import  MapAxis, WcsGeom\n",
    "from gammapy.datasets import  MapDataset\n",
    "from gammapy.makers import MapDatasetMaker, SafeMaskMaker"
   ]
  },
  {
   "cell_type": "code",
   "execution_count": 2,
   "metadata": {},
   "outputs": [],
   "source": [
    "import logging\n",
    "import warnings\n",
    "\n",
    "#now we will Create and configure logger \n",
    "logging.basicConfig(filename=\"std.log\",\n",
    "\t\t\t\t\tformat='%(asctime)s %(message)s', \n",
    "\t\t\t\t\tfilemode='w') \n",
    "\n",
    "#Let us Create an object \n",
    "logger=logging.getLogger()\n",
    "#Now we are going to Set the threshold of logger to DEBUG \n",
    "logger.setLevel(logging.WARNING)\n",
    "warnings.simplefilter('ignore')"
   ]
  },
  {
   "cell_type": "code",
   "execution_count": 3,
   "metadata": {},
   "outputs": [],
   "source": [
    "# let's read all the event files into the DC folder:\n",
    "cwd = Path.cwd()\n",
    "path = cwd / 'new_events/new_events_diffuse'\n",
    "paths = list(path.rglob(\"selected_events*.fits\"))\n",
    "new_path = cwd / 'new_events/new_events_diffuse+fermi'\n",
    "#Here I create a new folder to store the selected events, and select all the events with MC_ID 10001\n",
    "#(new_path).mkdir(parents = True)\n",
    "for i, filename_1 in enumerate(paths):\n",
    "    filenumber = \"{0:04d}\".format(i)\n",
    "    filename_2 = f'new_events/new_events_fermi/selected_events_fermi_{filenumber}.fits'\n",
    "    events_1 = EventList.read(filename_1)\n",
    "    events_2 = EventList.read(filename_2)\n",
    "    gti_1 = GTI.read(filename_1)\n",
    "    gti_2 = GTI.read(filename_2)\n",
    "    # stack in place, now the _1 object contains the information of both\n",
    "    gti_1.stack(gti_2)\n",
    "    events_1.stack(events_2)\n",
    "    events_1.write(new_path / f\"selected_events_diffuse+fermi_{filenumber}.fits\", gti=gti_1, overwrite=True)"
   ]
  },
  {
   "cell_type": "code",
   "execution_count": 4,
   "metadata": {},
   "outputs": [
    {
     "name": "stdout",
     "output_type": "stream",
     "text": [
      "Data store:\n",
      "HDU index table:\n",
      "BASE_DIR: .\n",
      "Rows: 1080\n",
      "OBS_ID: 0 -- 179\n",
      "HDU_TYPE: ['aeff', 'bkg', 'edisp', 'events', 'gti', 'psf']\n",
      "HDU_CLASS: ['aeff_2d', 'bkg_3d', 'edisp_2d', 'events', 'gti', 'psf_3gauss']\n",
      "\n",
      "\n",
      "Observation table:\n",
      "Observatory name: 'N/A'\n",
      "Number of observations: 180\n",
      "\n",
      "Data store:\n",
      "HDU index table:\n",
      "BASE_DIR: datastores\n",
      "Rows: 1080\n",
      "OBS_ID: 0 -- 179\n",
      "HDU_TYPE: ['aeff', 'bkg', 'edisp', 'events', 'gti', 'psf']\n",
      "HDU_CLASS: ['aeff_2d', 'bkg_3d', 'edisp_2d', 'events', 'gti', 'psf_3gauss']\n",
      "\n",
      "\n",
      "Observation table:\n",
      "Observatory name: 'N/A'\n",
      "Number of observations: 180\n",
      "\n"
     ]
    }
   ],
   "source": [
    "# let's read all the new selected event files into the \"new_events\" folder:\n",
    "new_paths = list(new_path.rglob(\"selected_events*.fits\"))\n",
    "#let's store the files into a `DataStore` object\n",
    "data_store = DataStore.from_events_files(events_paths=new_paths, \n",
    "                                         irfs_paths=\"../irfs/\"+\n",
    "                                         \"astri_100_43_008_0502_C0_20_AVERAGE_50h_SC_v1.0.lv3.fits\")\n",
    "print(data_store)\n",
    "# Let's save them on disk:\n",
    "data_store.hdu_table.write(\"datastores/selected_diffuse+fermi_hdu-index.fits.gz\", overwrite=True)\n",
    "data_store.obs_table.write(\"datastores/selected_diffuse+fermi_obs-index.fits.gz\", overwrite=True)\n",
    "# Let's read the DataStore\n",
    "data_store = DataStore.from_dir(\"./datastores\", \"selected_diffuse+fermi_hdu-index.fits.gz\", \"selected_diffuse+fermi_obs-index.fits.gz\")\n",
    "data_store.info()\n",
    "observations = data_store.get_observations()\n",
    "table = data_store.obs_table\n",
    "pos_obs = SkyCoord(table['GLON_PNT'], table['GLAT_PNT'], frame='galactic', unit='deg')"
   ]
  },
  {
   "attachments": {},
   "cell_type": "markdown",
   "metadata": {},
   "source": [
    "### Creation of a Skymap to have a look at the diffuse morphology"
   ]
  },
  {
   "cell_type": "code",
   "execution_count": 5,
   "metadata": {},
   "outputs": [],
   "source": [
    "pos_target = SkyCoord(73.0, 2.0, frame='galactic', unit='deg')\n",
    "\n",
    "energy_axis = MapAxis.from_bounds(\n",
    "    0.7, 100, nbin=10, name=\"energy\", unit=\"TeV\", interp=\"log\"\n",
    ")\n",
    "geom = WcsGeom.create(\n",
    "    skydir=pos_target,\n",
    "    axes=[energy_axis],\n",
    "    width=[22 * u.deg, 10 * u.deg],\n",
    "    binsz=0.2 * u.deg,\n",
    "    frame=\"galactic\",\n",
    ")\n",
    "\n",
    "stacked = MapDataset.create(geom=geom)\n",
    "maker = MapDatasetMaker(selection=[\"counts\", \"background\", \"exposure\", \"edisp\", \"psf\"])\n",
    "maker_safe_mask = SafeMaskMaker(methods=[\"aeff-default\"])\n",
    "\n",
    "for obs in observations:\n",
    "    cutout = stacked.cutout(obs.pointing_radec, width=\"12 deg\")\n",
    "    dataset = maker.run(cutout, obs)\n",
    "    dataset = maker_safe_mask.run(dataset, obs)\n",
    "    stacked.stack(dataset)   "
   ]
  },
  {
   "cell_type": "code",
   "execution_count": 6,
   "metadata": {},
   "outputs": [],
   "source": [
    "datasets_path = cwd / 'datasets' / 'analysis_selected_diffuse+fermi+bkg_ids_width_22_10'\n",
    "(datasets_path).mkdir(parents = True)\n",
    "filename = datasets_path / \"selected-diffuse+fermi+bkg-ids-dataset_width_22_10.fits.gz\"\n",
    "stacked.write(filename, overwrite=True)"
   ]
  }
 ],
 "metadata": {
  "kernelspec": {
   "display_name": "gammapy-1.0",
   "language": "python",
   "name": "python3"
  },
  "language_info": {
   "codemirror_mode": {
    "name": "ipython",
    "version": 3
   },
   "file_extension": ".py",
   "mimetype": "text/x-python",
   "name": "python",
   "nbconvert_exporter": "python",
   "pygments_lexer": "ipython3",
   "version": "3.9.15"
  },
  "orig_nbformat": 4,
  "vscode": {
   "interpreter": {
    "hash": "e6ec65d4e5125fb7c3728be15180ce0198c4c898eb3567f17077f174e9082a6b"
   }
  }
 },
 "nbformat": 4,
 "nbformat_minor": 2
}
